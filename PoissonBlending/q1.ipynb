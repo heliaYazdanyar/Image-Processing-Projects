{
 "cells": [
  {
   "cell_type": "markdown",
   "metadata": {},
   "source": [
    "POISSON BLENDING"
   ]
  },
  {
   "cell_type": "code",
   "execution_count": 188,
   "metadata": {},
   "outputs": [],
   "source": [
    "import matplotlib.pyplot as plt\n",
    "import cv2\n",
    "import numpy as np\n",
    "from scipy.sparse import linalg as linalg\n",
    "%matplotlib inline"
   ]
  },
  {
   "cell_type": "code",
   "execution_count": 189,
   "metadata": {},
   "outputs": [],
   "source": [
    "#loading images\n",
    "target=cv2.imread('target.jpg')\n",
    "source=cv2.imread('source.png')\n",
    "\n",
    "#variables\n",
    "w=source.shape[0]\n",
    "h=source.shape[1]\n",
    "# h1=50\n",
    "# w1=460\n",
    "h1=155\n",
    "w1=365\n",
    "n=w*h"
   ]
  },
  {
   "cell_type": "markdown",
   "metadata": {},
   "source": [
    "Here I define a \"mask\" in order to have the location of source on target in matrix form:"
   ]
  },
  {
   "cell_type": "code",
   "execution_count": 190,
   "metadata": {},
   "outputs": [
    {
     "data": {
      "text/plain": [
       "<matplotlib.image.AxesImage at 0x7fc6cb642ed0>"
      ]
     },
     "execution_count": 190,
     "metadata": {},
     "output_type": "execute_result"
    },
    {
     "data": {
      "image/png": "[encoded data removed]",
      "text/plain": [
       "<Figure size 432x288 with 1 Axes>"
      ]
     },
     "metadata": {
      "needs_background": "light"
     },
     "output_type": "display_data"
    }
   ],
   "source": [
    "mask=np.zeros(target.shape)\n",
    "\n",
    "mask2=np.zeros(source.shape)\n",
    "mask2=np.where(source==0,0,255)\n",
    "\n",
    "mask[w1:w1+source.shape[0],h1:h1+source.shape[1],:]=mask2\n",
    "mask = cv2.blur(mask,(5,5))\n",
    "kernel = np.ones((7,7),np.uint8)\n",
    "mask = cv2.erode(mask,kernel,iterations = 1)\n",
    "plt.imshow(mask)"
   ]
  },
  {
   "cell_type": "markdown",
   "metadata": {},
   "source": [
    "In order to apply poisson blendin for adding a part of source to our target we need to know points inside,on edge,and outside the region of new picture.Methods below define the posission of point (i,j):"
   ]
  },
  {
   "cell_type": "code",
   "execution_count": 191,
   "metadata": {},
   "outputs": [],
   "source": [
    "def is_outside(i,j):\n",
    "    if (i==0) | (j==0) | (j==h-1) | (i==w-1):\n",
    "        return True\n",
    "    if (mask[w1+i][h1+j][0]==0):\n",
    "        return True\n",
    "    return False"
   ]
  },
  {
   "cell_type": "code",
   "execution_count": 192,
   "metadata": {},
   "outputs": [],
   "source": [
    "def on_edge(i,j):\n",
    "    if is_outside(i,j):\n",
    "        return False\n",
    "    for k in range(1,9):\n",
    "        if i+k<w:\n",
    "            if is_outside(i+k,j)==True:\n",
    "                return True\n",
    "        if j+k<h:\n",
    "            if is_outside(i,j+k)==True:\n",
    "                return True\n",
    "        if i-k>=0:\n",
    "            if is_outside(i-k,j)==True:\n",
    "                return True\n",
    "        if j-k>=0:\n",
    "            if is_outside(i,j-k)==True:\n",
    "                return True \n",
    "    return False    "
   ]
  },
  {
   "cell_type": "code",
   "execution_count": 193,
   "metadata": {},
   "outputs": [],
   "source": [
    "def is_inside(i,j):\n",
    "    if is_outside(i,j)==True:\n",
    "        return False\n",
    "    if on_edge(i,j)==True:\n",
    "        return False\n",
    "    return True"
   ]
  },
  {
   "cell_type": "markdown",
   "metadata": {},
   "source": [
    "To find new values of a point (in source) we need its laplacian which we know is calculated with its neighbors.But here to exclude noise and emphasize on inside points (and also according to formula in slides) we dont consider points that are not inside:"
   ]
  },
  {
   "cell_type": "code",
   "execution_count": 194,
   "metadata": {},
   "outputs": [],
   "source": [
    "def laplac_source(x,y,num):\n",
    "    res=0\n",
    "    if is_inside(x-1,y):\n",
    "        res=res+source[x][y][num]-source[x-1][y][num]\n",
    "    if is_inside(x,y-1):\n",
    "        res=res+source[x][y][num]-source[x][y-1][num]\n",
    "    if is_inside(x,y+1):\n",
    "        res=res+source[x][y][num]-source[x][y+1][num]\n",
    "    if is_inside(x+1,y):\n",
    "        res=res+source[x][y][num]-source[x+1][y][num]\n",
    "        \n",
    "    return res"
   ]
  },
  {
   "cell_type": "markdown",
   "metadata": {},
   "source": [
    "Now for handling the linear system that should be solved to get new values of points,we need a map of indexing to map (i,j)'s to indexes between 0 to n (indexes of result vector):"
   ]
  },
  {
   "cell_type": "code",
   "execution_count": 195,
   "metadata": {},
   "outputs": [],
   "source": [
    "def inverse_index(k):\n",
    "    i=k/h\n",
    "    j=k-(i*h)\n",
    "    return [i,j]"
   ]
  },
  {
   "cell_type": "code",
   "execution_count": 196,
   "metadata": {},
   "outputs": [],
   "source": [
    "def get_index(i,j):\n",
    "    return (i*h)+j"
   ]
  },
  {
   "cell_type": "markdown",
   "metadata": {},
   "source": [
    "To build A matrix we should consider the fact that most of its values are 1  and zero and its similar to identity matrix.There are some 4's and (-1)'s for points that are inside the region and its neighbors(respectively) which can be identified by methods that were mentioned before."
   ]
  },
  {
   "cell_type": "code",
   "execution_count": 197,
   "metadata": {},
   "outputs": [],
   "source": [
    "A=np.identity(n)"
   ]
  },
  {
   "cell_type": "code",
   "execution_count": 198,
   "metadata": {},
   "outputs": [],
   "source": [
    "for i in range(0,w-1):\n",
    "    for j in range(0,h-1):\n",
    "        if is_inside(i,j)==True:\n",
    "            k=get_index(i,j)\n",
    "            A[k][k]=4\n",
    "            \n",
    "            if is_inside(i,j+1):\n",
    "                A[k][get_index(i,j+1)]=(-1)\n",
    "            if is_inside(i,j-1):\n",
    "                A[k][get_index(i,j-1)]=(-1)\n",
    "            if is_inside(i+1,j):\n",
    "                A[k][get_index(i+1,j)]=(-1)\n",
    "            if is_inside(i-1,j):\n",
    "                A[k][get_index(i-1,j)]=(-1)"
   ]
  },
  {
   "cell_type": "markdown",
   "metadata": {},
   "source": [
    "Obviously to solve linear system Ax=b we need A2=inverse(A) so that we can get values of x vector by calculating x=A2.b.\n",
    "I got A-inverse with a numpy method which unfortunatley takes about 2 minutes to give us the result:"
   ]
  },
  {
   "cell_type": "code",
   "execution_count": 199,
   "metadata": {},
   "outputs": [],
   "source": [
    "#inverse A\n",
    "A2=np.linalg.inv(A)"
   ]
  },
  {
   "cell_type": "markdown",
   "metadata": {},
   "source": [
    "To create vector \"b\", I defined a method to have a certain b for each color rgb and get answers of \"x\" for each color.\n",
    "\n",
    "Values of \"b\" depends on whether the point is inside,outside or on the edge of the region.\n",
    "\n",
    "If it was inside,value would be laplacian of that point in source image,so that laplacian of the point could be the same in the new image and also if it has on_edge neighbors we add their values in target image in order to have color of target image in our new source.\n",
    "\n",
    "And if the point was outside the region the value will be the same as the one in target."
   ]
  },
  {
   "cell_type": "code",
   "execution_count": 200,
   "metadata": {},
   "outputs": [],
   "source": [
    "def create_B(color):\n",
    "    B = np.zeros((n,1))\n",
    "    for k in range(0,n-1):\n",
    "        i,j=inverse_index(k)\n",
    "\n",
    "        if is_inside(i,j):\n",
    "            B[k][0]=laplac_source(i,j,color)\n",
    "            if on_edge(i,j+1)==True:\n",
    "                B[k][0]=B[k][0]+target[w1+i][h1+j+1][color]\n",
    "            if on_edge(i+1,j)==True:\n",
    "                B[k][0]=B[k][0]+target[w1+i+1][h1+j][color]\n",
    "            if on_edge(i,j-1)==True:\n",
    "                B[k][0]=B[k][0]+target[w1+i][h1+j-1][color]\n",
    "            if on_edge(i-1,j)==True:\n",
    "                B[k][0]=B[k][0]+target[w1+i-1][h1+j][color]\n",
    "                \n",
    "        else:\n",
    "            B[k][0]=target[w1+i][h1+j][color]\n",
    "    return B  "
   ]
  },
  {
   "cell_type": "markdown",
   "metadata": {},
   "source": [
    "Here we get \"b\" for each color and calculate x for each color using A2 which we defined before:"
   ]
  },
  {
   "cell_type": "code",
   "execution_count": 201,
   "metadata": {},
   "outputs": [],
   "source": [
    "b0=create_B(0)\n",
    "b1=create_B(1)\n",
    "b2=create_B(2)"
   ]
  },
  {
   "cell_type": "code",
   "execution_count": 202,
   "metadata": {},
   "outputs": [],
   "source": [
    "X0=A2.dot(b0)\n",
    "X1=A2.dot(b1)\n",
    "X2=A2.dot(b2)"
   ]
  },
  {
   "cell_type": "code",
   "execution_count": 203,
   "metadata": {},
   "outputs": [],
   "source": [
    "X0=np.where(X0<0,0,X0)\n",
    "X1=np.where(X1<0,0,X1)\n",
    "X2=np.where(X2<0,0,X2)\n",
    "X0=np.where(X0>255,255,X0)\n",
    "X1=np.where(X0>255,255,X1)\n",
    "X2=np.where(X0>255,255,X2)"
   ]
  },
  {
   "cell_type": "markdown",
   "metadata": {},
   "source": [
    "Mapping result of linear system into an image matrix:"
   ]
  },
  {
   "cell_type": "code",
   "execution_count": 204,
   "metadata": {},
   "outputs": [],
   "source": [
    "result=np.where(mask==0,target,0)\n",
    "for k in range(0,n):\n",
    "    x,y=inverse_index(k)\n",
    "    if(mask[w1+x][h1+y][0]!=0):\n",
    "        result[w1+x][h1+y][0]=X0[k]\n",
    "        result[w1+x][h1+y][1]=X1[k]\n",
    "        result[w1+x][h1+y][2]=X2[k]"
   ]
  },
  {
   "cell_type": "code",
   "execution_count": 205,
   "metadata": {},
   "outputs": [
    {
     "data": {
      "text/plain": [
       "True"
      ]
     },
     "execution_count": 205,
     "metadata": {},
     "output_type": "execute_result"
    }
   ],
   "source": [
    "cv2.imwrite('res1.jpg',result)"
   ]
  },
  {
   "cell_type": "code",
   "execution_count": null,
   "metadata": {},
   "outputs": [],
   "source": []
  }
 ],
 "metadata": {
  "kernelspec": {
   "display_name": "Python 2",
   "language": "python",
   "name": "python2"
  },
  "language_info": {
   "codemirror_mode": {
    "name": "ipython",
    "version": 2
   },
   "file_extension": ".py",
   "mimetype": "text/x-python",
   "name": "python",
   "nbconvert_exporter": "python",
   "pygments_lexer": "ipython2",
   "version": "2.7.15"
  }
 },
 "nbformat": 4,
 "nbformat_minor": 2
}
