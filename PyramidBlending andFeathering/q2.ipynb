{
 "cells": [
  {
   "cell_type": "markdown",
   "metadata": {},
   "source": [
    "PYRAMID BLENDING"
   ]
  },
  {
   "cell_type": "code",
   "execution_count": 265,
   "metadata": {},
   "outputs": [],
   "source": [
    "import matplotlib.pyplot as plt\n",
    "import cv2\n",
    "import numpy as np\n",
    "%matplotlib inline"
   ]
  },
  {
   "cell_type": "markdown",
   "metadata": {},
   "source": [
    "In order to have laplacian and gaussian pyramid of each image and the mask, first i define methods to resize images from a level to another.I used INTER_AREA mode of resize to avoid noise in laplacian pyramid.By examining many different values i thaught having 3/2 as gap of size in levels has a better result."
   ]
  },
  {
   "cell_type": "code",
   "execution_count": 266,
   "metadata": {},
   "outputs": [],
   "source": [
    "def sub_sample(im):\n",
    "    width = int(im.shape[1]/(3/2))\n",
    "    height = int(im.shape[0]/(3/2))\n",
    "    \n",
    "    new_size = (width, height)\n",
    "    \n",
    "    output = cv2.resize(im, new_size,interpolation = cv2.INTER_AREA)\n",
    "    \n",
    "    return output"
   ]
  },
  {
   "cell_type": "code",
   "execution_count": 267,
   "metadata": {},
   "outputs": [],
   "source": [
    "def up_sample(im):\n",
    "    width = int(im.shape[1]*(3/2))\n",
    "    height = int(im.shape[0]*(3/2))\n",
    "    \n",
    "    new_size = (width, height)\n",
    "    output = cv2.resize(im, new_size,interpolation = cv2.INTER_AREA)\n",
    "    \n",
    "    return output"
   ]
  },
  {
   "cell_type": "markdown",
   "metadata": {},
   "source": [
    "We want 4 levels of guassian pyramid(to use the smallest level at the end) and 3 levels of laplacian pyramid which is mad by difference of diffrent levels of guassian pyramid as it was told in the course.Here there is methods to build gaussian and laplacian pyramids for input image:"
   ]
  },
  {
   "cell_type": "code",
   "execution_count": 268,
   "metadata": {},
   "outputs": [],
   "source": [
    "def gauss_pyr(image):\n",
    "    pyr=[]\n",
    "    \n",
    "    level=image\n",
    "    for k in range(0,4):\n",
    "        level = cv2.GaussianBlur(level, (1,1), 0)\n",
    "        level=sub_sample(level)\n",
    "        \n",
    "        pyr.append(level)\n",
    "\n",
    "    return pyr"
   ]
  },
  {
   "cell_type": "code",
   "execution_count": 269,
   "metadata": {},
   "outputs": [],
   "source": [
    "def laplac_pyr(image,g):\n",
    "    pyr=[]\n",
    "    \n",
    "    for k in range(0,3):\n",
    "        lvl=up_sample(sub_sample(g[k]))\n",
    "        l=lvl - up_sample(g[k+1])\n",
    "        pyr.append(l)\n",
    "            \n",
    "    return pyr"
   ]
  },
  {
   "cell_type": "markdown",
   "metadata": {},
   "source": [
    "As we know we only need a part of image A and imge B which can be defined by convolving a mask on them and also to have a blended result we need to feather the mask before convolving it to images,so here are to methods for feathering mask and applying input mask on input image A and B which are in same levels of different pyramids.\n",
    "\n",
    "In \"feather\" method I used guassian blur to have a smooth mask and values that are passed to this smoothing method are decided by examining many different values."
   ]
  },
  {
   "cell_type": "code",
   "execution_count": 270,
   "metadata": {},
   "outputs": [],
   "source": [
    "def feather(input_mask):\n",
    "    m=cv2.GaussianBlur(input_mask, (197,197), cv2.BORDER_CONSTANT)\n",
    "    m=np.where(input_mask==0,0,m)\n",
    "    return m"
   ]
  },
  {
   "cell_type": "code",
   "execution_count": 271,
   "metadata": {},
   "outputs": [],
   "source": [
    "def apply_mask(t,s,mask):\n",
    "    mask2=feather(mask)\n",
    "    result = ((1-mask2)*t) + (mask2*s)\n",
    "    return result"
   ]
  },
  {
   "cell_type": "markdown",
   "metadata": {},
   "source": [
    "At last we need a pyramid which its level are made by a combination of same level of laplacian pyramid of image A and B.\n",
    "\n",
    "If we call laplacian of images A and B ,LA and LB respectively and GR be the pyramid of a proper mask, the new pyramid's levels are built by applying same level of GR on LA and LB or in ither words a level of this pyramid is a combination of two images laplacian on that level with a proper mask."
   ]
  },
  {
   "cell_type": "code",
   "execution_count": 272,
   "metadata": {},
   "outputs": [],
   "source": [
    "def masked_laplac_pyr(LA,LB,GR):\n",
    "    pyramid=[]\n",
    "    \n",
    "    for k in range(0,3):\n",
    "        level=apply_mask(LA[k],LB[k],GR[k])\n",
    "        pyramid.append(level)\n",
    "    \n",
    "    return pyramid"
   ]
  },
  {
   "cell_type": "markdown",
   "metadata": {},
   "source": [
    "By having the combined pyramid and smallest level of guassian pyramids of images we can do the blending by adding gaussian levels and up sampling th result to add a level of \"combined pyramid\" and again upscaling... until we reach to input image size."
   ]
  },
  {
   "cell_type": "code",
   "execution_count": 273,
   "metadata": {},
   "outputs": [],
   "source": [
    "def blend(g1,g2,GR,LA,LB):\n",
    "    \n",
    "    m=feather(GR[2])\n",
    "\n",
    "    g1_maked= (1-m) * (LA[2] + up_sample(g_1[3]))\n",
    "    g2_masked= (m) * (LB[2] + up_sample(g_2[3]))\n",
    "   \n",
    "    s= g1_maked + g2_masked\n",
    "    \n",
    "    pyr=masked_laplac_pyr(LA,LB,GR)\n",
    "    \n",
    "    p=pyr[1]\n",
    "    s=up_sample(s)+p\n",
    "    \n",
    "    \n",
    "    p=p[0]\n",
    "    s=up_sample(s)+p\n",
    "    \n",
    "    return s"
   ]
  },
  {
   "cell_type": "code",
   "execution_count": null,
   "metadata": {},
   "outputs": [],
   "source": []
  },
  {
   "cell_type": "code",
   "execution_count": 274,
   "metadata": {},
   "outputs": [],
   "source": [
    "#loading images\n",
    "target=cv2.imread('target.jpg')\n",
    "source=cv2.imread('source.png')"
   ]
  },
  {
   "cell_type": "code",
   "execution_count": 275,
   "metadata": {},
   "outputs": [],
   "source": [
    "w=source.shape[0]\n",
    "h=source.shape[1]\n",
    "\n",
    "h1=142\n",
    "w1=422"
   ]
  },
  {
   "cell_type": "code",
   "execution_count": 276,
   "metadata": {},
   "outputs": [],
   "source": [
    "#source in a black matrix with target size\n",
    "inframe_source=np.zeros(target.shape)\n",
    "for x in range(0,w-1):\n",
    "    for y in range(0,h-1):\n",
    "        if(mask[w1+x][h1+y][0]!=0):\n",
    "            inframe_source[w1+x][h1+y][0]=source[x][y][0]\n",
    "            inframe_source[w1+x][h1+y][1]=source[x][y][1]\n",
    "            inframe_source[w1+x][h1+y][2]=source[x][y][2]"
   ]
  },
  {
   "cell_type": "code",
   "execution_count": 277,
   "metadata": {},
   "outputs": [],
   "source": [
    "#initializing mask\n",
    "mask=np.zeros(target.shape)\n",
    "mask2=np.zeros(source.shape)\n",
    "mask2=np.where(source==0,0,255)\n",
    "mask[w1:w1+source.shape[0],h1:h1+source.shape[1],:]=mask2"
   ]
  },
  {
   "cell_type": "markdown",
   "metadata": {},
   "source": [
    "To get a better mask I used morphology methods of cv2 to \"close\" mask and after feathering the result I \"erode\" it because without doing so the result would have some black lines on some edges after up scaling levels of pyramid."
   ]
  },
  {
   "cell_type": "code",
   "execution_count": 278,
   "metadata": {},
   "outputs": [
    {
     "data": {
      "text/plain": [
       "<matplotlib.image.AxesImage at 0x7fbd84b6f410>"
      ]
     },
     "execution_count": 278,
     "metadata": {},
     "output_type": "execute_result"
    },
    {
     "data": {
      "image/png": "[encoded data removed]",
      "text/plain": [
       "<Figure size 432x288 with 1 Axes>"
      ]
     },
     "metadata": {
      "needs_background": "light"
     },
     "output_type": "display_data"
    }
   ],
   "source": [
    "kernel = np.ones((11,11),np.uint8)\n",
    "mask = cv2.morphologyEx(mask, cv2.MORPH_CLOSE, kernel)\n",
    "plt.imshow(mask)"
   ]
  },
  {
   "cell_type": "code",
   "execution_count": 279,
   "metadata": {},
   "outputs": [],
   "source": [
    "mask=feather(mask)"
   ]
  },
  {
   "cell_type": "code",
   "execution_count": 280,
   "metadata": {},
   "outputs": [],
   "source": [
    "kernel = np.ones((5,5),np.uint8)\n",
    "mask = cv2.erode(mask,kernel,iterations = 1)\n",
    "mask=mask/255"
   ]
  },
  {
   "cell_type": "markdown",
   "metadata": {},
   "source": [
    "Now we apply methods on target and source to get result:"
   ]
  },
  {
   "cell_type": "code",
   "execution_count": 281,
   "metadata": {},
   "outputs": [],
   "source": [
    "g_1=gauss_pyr(target)\n",
    "g_2=gauss_pyr(inframe_source)"
   ]
  },
  {
   "cell_type": "code",
   "execution_count": 282,
   "metadata": {},
   "outputs": [],
   "source": [
    "LA=laplac_pyr(target,g_1)\n",
    "LB=laplac_pyr(inframe_source,g_2)"
   ]
  },
  {
   "cell_type": "code",
   "execution_count": 283,
   "metadata": {},
   "outputs": [],
   "source": [
    "GR=gauss_pyr(mask)"
   ]
  },
  {
   "cell_type": "code",
   "execution_count": 284,
   "metadata": {},
   "outputs": [],
   "source": [
    "res = blend(g_1[3],g_2[3],GR,LA,LB)"
   ]
  },
  {
   "cell_type": "code",
   "execution_count": 285,
   "metadata": {},
   "outputs": [
    {
     "data": {
      "text/plain": [
       "True"
      ]
     },
     "execution_count": 285,
     "metadata": {},
     "output_type": "execute_result"
    }
   ],
   "source": [
    "cv2.imwrite(\"res2.jpg\",res)"
   ]
  },
  {
   "cell_type": "code",
   "execution_count": null,
   "metadata": {},
   "outputs": [],
   "source": []
  }
 ],
 "metadata": {
  "kernelspec": {
   "display_name": "Python 2",
   "language": "python",
   "name": "python2"
  },
  "language_info": {
   "codemirror_mode": {
    "name": "ipython",
    "version": 2
   },
   "file_extension": ".py",
   "mimetype": "text/x-python",
   "name": "python",
   "nbconvert_exporter": "python",
   "pygments_lexer": "ipython2",
   "version": "2.7.15"
  }
 },
 "nbformat": 4,
 "nbformat_minor": 2
}
