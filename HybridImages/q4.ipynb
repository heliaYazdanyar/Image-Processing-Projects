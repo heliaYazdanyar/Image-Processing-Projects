{
 "cells": [
  {
   "cell_type": "code",
   "execution_count": 325,
   "metadata": {},
   "outputs": [],
   "source": [
    "import numpy as np\n",
    "import cv2\n",
    "import math\n",
    "import scipy.misc\n",
    "import matplotlib.pyplot as plt\n",
    "%matplotlib inline"
   ]
  },
  {
   "cell_type": "code",
   "execution_count": 326,
   "metadata": {},
   "outputs": [
    {
     "data": {
      "text/plain": [
       "True"
      ]
     },
     "execution_count": 326,
     "metadata": {},
     "output_type": "execute_result"
    }
   ],
   "source": [
    "near=cv2.imread('q4_01_near.jpg')\n",
    "far1=cv2.imread('q4_02_far.jpg')\n",
    "shape=far1.shape\n",
    "\n",
    "\n",
    "far=np.zeros((shape[0],shape[1],3)).astype(int)\n",
    "\n",
    "d=0.1991\n",
    "a=1.15\n",
    "\n",
    "#70 , -70\n",
    "#0.1911\n",
    "translate=np.array([[a*math.cos(d),-a*math.sin(d),53],\n",
    "          [a*math.sin(d),a*math.cos(d),-115],\n",
    "          [0,0,1]])\n",
    "\n",
    "\n",
    "for x in range(0,shape[0]):\n",
    "    for y in range(0,shape[1]):\n",
    "        v=[[x],\n",
    "          [y],\n",
    "          [1]]\n",
    "        v2=translate.dot(v).astype(int)\n",
    "        for i in range(0,3):\n",
    "            if((v2[0][0]<shape[0]) & (v2[1][0]<shape[1])):\n",
    "                far[v2[0][0]][v2[1][0]][i]=int(far1[x][y][i])\n",
    "                \n",
    "                \n",
    "                \n",
    "                \n",
    "    \n",
    "    \n",
    "cv2.imwrite('q4_03_near.jpg',near) \n",
    "cv2.imwrite('q4_04_far.jpg',far)"
   ]
  },
  {
   "cell_type": "code",
   "execution_count": 327,
   "metadata": {},
   "outputs": [],
   "source": [
    "#in frequency domain\n",
    "def amplitude_image(image):\n",
    "    r=[]\n",
    "    for i in range(0,3):\n",
    "        fft = np.fft.fft2(image[:,:,i])\n",
    "        shifted= np.fft.fftshift(fft)\n",
    "        amplitude_image = np.abs(shifted)\n",
    "        r.append(np.log(amplitude_image))\n",
    "        \n",
    "    return cv2.merge([r[0],r[1],r[2]])"
   ]
  },
  {
   "cell_type": "code",
   "execution_count": 328,
   "metadata": {},
   "outputs": [],
   "source": [
    "A_near=amplitude_image(near)\n",
    "A_far=amplitude_image(far)"
   ]
  },
  {
   "cell_type": "code",
   "execution_count": 329,
   "metadata": {},
   "outputs": [
    {
     "name": "stderr",
     "output_type": "stream",
     "text": [
      "/Users/helia_yaz/opt/anaconda3/envs/py27/lib/python2.7/site-packages/ipykernel_launcher.py:1: DeprecationWarning: `imsave` is deprecated!\n",
      "`imsave` is deprecated in SciPy 1.0.0, and will be removed in 1.2.0.\n",
      "Use ``imageio.imwrite`` instead.\n",
      "  \"\"\"Entry point for launching an IPython kernel.\n",
      "/Users/helia_yaz/opt/anaconda3/envs/py27/lib/python2.7/site-packages/ipykernel_launcher.py:2: DeprecationWarning: `imsave` is deprecated!\n",
      "`imsave` is deprecated in SciPy 1.0.0, and will be removed in 1.2.0.\n",
      "Use ``imageio.imwrite`` instead.\n",
      "  \n"
     ]
    }
   ],
   "source": [
    "scipy.misc.imsave('q4_05_dft_near.jpg',A_near)\n",
    "scipy.misc.imsave('q4_06_dft_far.jpg',A_far)"
   ]
  },
  {
   "cell_type": "code",
   "execution_count": 330,
   "metadata": {},
   "outputs": [],
   "source": [
    "def highPassFilter(cut,sigma,rows,cols):\n",
    "    if rows%2==1:\n",
    "        x_center=int(rows/2)+1\n",
    "    else:\n",
    "        x_center=rows/2\n",
    "    if cols%2==1:\n",
    "        y_center=int(cols/2)+1\n",
    "    else:\n",
    "        y_center=(cols/2)\n",
    "    Filter=np.array(np.zeros((rows,cols)))   \n",
    "    for j in range(0,cols):\n",
    "        for i in range(0,rows):\n",
    "            if cut==0:\n",
    "                Filter[i][j]=1-math.exp(-1.0 * ((i-x_center)**2 + (j-y_center)**2) / (2 * sigma**2))\n",
    "            elif ((i-x_center)**2 + (j-y_center)**2)>=cut:\n",
    "                Filter[i][j]=1-math.exp(-1.0 * ((i-x_center)**2 + (j-y_center)**2) / (2 * sigma**2))\n",
    "            else:\n",
    "                Filter[i][j]=0\n",
    "            \n",
    "    return Filter "
   ]
  },
  {
   "cell_type": "code",
   "execution_count": 331,
   "metadata": {},
   "outputs": [],
   "source": [
    "def lowPassFilter(cut,sigma,rows,cols):\n",
    "    if rows%2==1:\n",
    "        x_center=int(rows/2)+1\n",
    "    else:\n",
    "        x_center=rows/2\n",
    "    if cols%2==1:\n",
    "        y_center=int(cols/2)+1\n",
    "    else:\n",
    "        y_center=(cols/2)\n",
    "        \n",
    "    Filter=np.array(np.zeros((rows,cols)))  \n",
    "    \n",
    "    for j in range(0,cols):\n",
    "        for i in range(0,rows): \n",
    "            if cut==0:\n",
    "                Filter[i][j]=math.exp(-1.0 * ((i-x_center)**2 + (j-y_center)**2) / (2 * sigma**2))\n",
    "            elif ((i-x_center)**2 + (j-y_center)**2)<=cut:\n",
    "                Filter[i][j]=math.exp(-1.0 * ((i-x_center)**2 + (j-y_center)**2) / (2 * sigma**2))\n",
    "\n",
    "            else:\n",
    "                Filter[i][j]=0\n",
    "                \n",
    "          \n",
    "    return Filter   "
   ]
  },
  {
   "cell_type": "code",
   "execution_count": 332,
   "metadata": {},
   "outputs": [
    {
     "name": "stderr",
     "output_type": "stream",
     "text": [
      "/Users/helia_yaz/opt/anaconda3/envs/py27/lib/python2.7/site-packages/ipykernel_launcher.py:11: DeprecationWarning: `imsave` is deprecated!\n",
      "`imsave` is deprecated in SciPy 1.0.0, and will be removed in 1.2.0.\n",
      "Use ``imageio.imwrite`` instead.\n",
      "  # This is added back by InteractiveShellApp.init_path()\n",
      "/Users/helia_yaz/opt/anaconda3/envs/py27/lib/python2.7/site-packages/ipykernel_launcher.py:12: DeprecationWarning: `imsave` is deprecated!\n",
      "`imsave` is deprecated in SciPy 1.0.0, and will be removed in 1.2.0.\n",
      "Use ``imageio.imwrite`` instead.\n",
      "  if sys.path[0] == '':\n"
     ]
    },
    {
     "data": {
      "image/png": "[encoded data removed]",
      "text/plain": [
       "<Figure size 432x288 with 2 Axes>"
      ]
     },
     "metadata": {
      "needs_background": "light"
     },
     "output_type": "display_data"
    }
   ],
   "source": [
    "cut1=(shape[0]/10)**2+(shape[1]/10)**2\n",
    "s1=25\n",
    "g1=highPassFilter(0,s1,shape[0],shape[1])\n",
    "filter1=highPassFilter(cut1,s1,shape[0],shape[1])\n",
    "\n",
    "fig, ax = plt.subplots(1,2,constrained_layout=True)\n",
    "\n",
    "ax[0].imshow(g1,cmap='gray')\n",
    "ax[1].imshow(filter1,cmap='gray')\n",
    "\n",
    "scipy.misc.imsave('Q4_07_highpass_'+str(s1)+'.jpg',g1)\n",
    "scipy.misc.imsave('Q4_09_highpass_'+str(cut1)+'.jpg',filter1)"
   ]
  },
  {
   "cell_type": "code",
   "execution_count": 333,
   "metadata": {},
   "outputs": [
    {
     "name": "stderr",
     "output_type": "stream",
     "text": [
      "/Users/helia_yaz/opt/anaconda3/envs/py27/lib/python2.7/site-packages/ipykernel_launcher.py:11: DeprecationWarning: `imsave` is deprecated!\n",
      "`imsave` is deprecated in SciPy 1.0.0, and will be removed in 1.2.0.\n",
      "Use ``imageio.imwrite`` instead.\n",
      "  # This is added back by InteractiveShellApp.init_path()\n",
      "/Users/helia_yaz/opt/anaconda3/envs/py27/lib/python2.7/site-packages/ipykernel_launcher.py:12: DeprecationWarning: `imsave` is deprecated!\n",
      "`imsave` is deprecated in SciPy 1.0.0, and will be removed in 1.2.0.\n",
      "Use ``imageio.imwrite`` instead.\n",
      "  if sys.path[0] == '':\n"
     ]
    },
    {
     "data": {
      "image/png": "[encoded data removed]",
      "text/plain": [
       "<Figure size 432x288 with 2 Axes>"
      ]
     },
     "metadata": {
      "needs_background": "light"
     },
     "output_type": "display_data"
    }
   ],
   "source": [
    "cut2=(shape[0]/4)**2+(shape[1]/4)**2\n",
    "\n",
    "s2=30\n",
    "g2=lowPassFilter(0,s2,shape[0],shape[1])\n",
    "filter2=lowPassFilter(cut2,s2,shape[0],shape[1])\n",
    "\n",
    "fig , axs=plt.subplots(1,2,constrained_layout=True)\n",
    "axs[0].imshow(g2,cmap='gray')\n",
    "axs[1].imshow(filter2,cmap='gray')\n",
    "\n",
    "scipy.misc.imsave('Q4_08_lowpass_'+str(s2)+'.jpg',g2)\n",
    "scipy.misc.imsave('Q4_10_lowpass_'+str(cut2)+'.jpg',filter2)"
   ]
  },
  {
   "cell_type": "code",
   "execution_count": 334,
   "metadata": {},
   "outputs": [],
   "source": [
    "def applyingFilter(image,filterG,i):\n",
    "    fft = np.fft.fft2(image[:,:,i])\n",
    "    shifted= np.fft.fftshift(fft)\n",
    "    fil_fft=shifted *filterG\n",
    "    return fil_fft\n",
    "\n",
    "def invFFT(filtered):\n",
    "    im_ishifted = np.fft.ifftshift(filtered)\n",
    "    im = np.fft.ifft2(im_ishifted)\n",
    "    im = np.real(im)\n",
    "        \n",
    "    return im"
   ]
  },
  {
   "cell_type": "code",
   "execution_count": 335,
   "metadata": {},
   "outputs": [
    {
     "data": {
      "text/plain": [
       "True"
      ]
     },
     "execution_count": 335,
     "metadata": {},
     "output_type": "execute_result"
    }
   ],
   "source": [
    "fil_near_b=applyingFilter(near,filter1,0)\n",
    "fil_near_g=applyingFilter(near,filter1,1)\n",
    "fil_near_r=applyingFilter(near,filter1,2)\n",
    "\n",
    "filtered_near=cv2.merge([np.real(fil_near_b),np.real(fil_near_g),np.real(fil_near_r)])\n",
    "\n",
    "fil_far_b=applyingFilter(far,filter2,0)\n",
    "fil_far_g=applyingFilter(far,filter2,1)\n",
    "fil_far_r=applyingFilter(far,filter2,2)\n",
    "\n",
    "filtered_far=cv2.merge([np.real(fil_far_b),np.real(fil_far_g),np.real(fil_far_r)])\n",
    "\n",
    "cv2.imwrite('Q4_11_highpassed.jpg',filtered_near)\n",
    "cv2.imwrite('Q4_12_lowpassed.jpg',filtered_far)"
   ]
  },
  {
   "cell_type": "code",
   "execution_count": 336,
   "metadata": {},
   "outputs": [
    {
     "data": {
      "text/plain": [
       "True"
      ]
     },
     "execution_count": 336,
     "metadata": {},
     "output_type": "execute_result"
    }
   ],
   "source": [
    "frequency_b=0.7*fil_near_b+0.3*fil_far_b\n",
    "frequency_g=0.7*fil_near_g+0.3*fil_far_g\n",
    "frequency_r=0.7*fil_near_r+0.3*fil_far_r\n",
    "\n",
    "\n",
    "frequency_result=cv2.merge([np.real(frequency_b),np.real(frequency_g),np.real(frequency_r)])\n",
    "cv2.imwrite('Q4_13_hybrid_frequency.jpg',frequency_result)"
   ]
  },
  {
   "cell_type": "code",
   "execution_count": 337,
   "metadata": {},
   "outputs": [
    {
     "data": {
      "text/plain": [
       "True"
      ]
     },
     "execution_count": 337,
     "metadata": {},
     "output_type": "execute_result"
    }
   ],
   "source": [
    "hybrid_b= invFFT(frequency_b)\n",
    "hybrid_g= invFFT(frequency_g)\n",
    "hybrid_r= invFFT(frequency_r)\n",
    "\n",
    "hybrid_near=cv2.merge([hybrid_b,hybrid_g,hybrid_r])\n",
    "cv2.imwrite('Q4_14_hybrid_near.jpg',hybrid_near)"
   ]
  },
  {
   "cell_type": "code",
   "execution_count": 338,
   "metadata": {},
   "outputs": [
    {
     "data": {
      "text/plain": [
       "True"
      ]
     },
     "execution_count": 338,
     "metadata": {},
     "output_type": "execute_result"
    }
   ],
   "source": [
    "width = int(shape[1] * 40 / 100)\n",
    "height = int(shape[0] * 40 / 100)\n",
    "hybrid_far = cv2.resize(hybrid_near, (width,height), interpolation = cv2.INTER_AREA)\n",
    "cv2.imwrite('Q4_15_hybrid_far.jpg',hybrid_far)"
   ]
  },
  {
   "cell_type": "code",
   "execution_count": null,
   "metadata": {},
   "outputs": [],
   "source": []
  },
  {
   "cell_type": "code",
   "execution_count": null,
   "metadata": {},
   "outputs": [],
   "source": []
  },
  {
   "cell_type": "code",
   "execution_count": null,
   "metadata": {},
   "outputs": [],
   "source": []
  },
  {
   "cell_type": "code",
   "execution_count": null,
   "metadata": {},
   "outputs": [],
   "source": []
  },
  {
   "cell_type": "code",
   "execution_count": null,
   "metadata": {},
   "outputs": [],
   "source": []
  },
  {
   "cell_type": "code",
   "execution_count": null,
   "metadata": {},
   "outputs": [],
   "source": []
  }
 ],
 "metadata": {
  "kernelspec": {
   "display_name": "Python 2",
   "language": "python",
   "name": "python2"
  },
  "language_info": {
   "codemirror_mode": {
    "name": "ipython",
    "version": 2
   },
   "file_extension": ".py",
   "mimetype": "text/x-python",
   "name": "python",
   "nbconvert_exporter": "python",
   "pygments_lexer": "ipython2",
   "version": "2.7.15"
  }
 },
 "nbformat": 4,
 "nbformat_minor": 2
}
